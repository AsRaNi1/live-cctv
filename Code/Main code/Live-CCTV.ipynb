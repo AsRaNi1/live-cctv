{
 "cells": [
  {
   "cell_type": "markdown",
   "id": "1e9616ff",
   "metadata": {},
   "source": [
    "**LIVE CCTV**"
   ]
  },
  {
   "cell_type": "markdown",
   "id": "60e01fc7",
   "metadata": {},
   "source": [
    "The project aims at recording reasonable changes detected in a video and also recognising the object that was responsible for the change in the video."
   ]
  },
  {
   "cell_type": "markdown",
   "id": "fb9a5170",
   "metadata": {},
   "source": [
    "The libraries used in the project are:\n",
    "* [OpenCV](https://anaconda.org/conda-forge/opencv)\n",
    "* [numpy](https://anaconda.org/anaconda/numpy)"
   ]
  },
  {
   "cell_type": "code",
   "execution_count": null,
   "id": "6cda29ac",
   "metadata": {},
   "outputs": [],
   "source": [
    "#Importing important libraries\n",
    "import cv2\n",
    "import numpy as np"
   ]
  },
  {
   "cell_type": "markdown",
   "id": "29195526",
   "metadata": {},
   "source": [
    "**EUCLIDEAN DISTANCE**"
   ]
  },
  {
   "cell_type": "markdown",
   "id": "690df2c1",
   "metadata": {},
   "source": [
    "The project uses euclidean distance as a measure of difference between the frames of the video\n",
    "\n",
    "Euclidean distance is given by (sigma[(x-y)^2])^0.5\n",
    "\n",
    "There are other methods of differentiating between 2 images, functions for some like:\n",
    "* Cosine Similarity\n",
    "* Manhattan Distance\n",
    "\n",
    "These are given in other the folder named _Other Methods_\n"
   ]
  },
  {
   "cell_type": "code",
   "execution_count": null,
   "id": "9991346d",
   "metadata": {},
   "outputs": [],
   "source": [
    "def euclidean_distance(image1, image2):\n",
    "    img1_array = np.asarray(image1)  #converts old_frame to an array\n",
    "    img2_array = np.asarray(image2)  #converts frame into an array\n",
    "#     print(image2)\n",
    "    \n",
    "    gray_img1_array = cv2.cvtColor(image1, cv2.COLOR_BGR2GRAY)\n",
    "    gray_img2_array = cv2.cvtColor(image2, cv2.COLOR_BGR2GRAY)\n",
    "    \n",
    "    #Formula for Euclidean distance\n",
    "    #euclidean_distance = (sigma[(x-y)^2])^0.5\n",
    "    eucdis = np.linalg.norm(gray_img1_array - gray_img2_array)\n",
    "    return eucdis"
   ]
  },
  {
   "cell_type": "markdown",
   "id": "5bf190dc",
   "metadata": {},
   "source": [
    "**VIDEO CAPTURING AND CONTOUR DETECTION**"
   ]
  },
  {
   "cell_type": "markdown",
   "id": "b58ac9a8",
   "metadata": {},
   "source": [
    "* The below code accesses the webcam of your device and captures video using cv2.\n",
    "* This code further detects Contours and assigns bounding boxes to the moving objects detected in the image by the webcam.\n",
    "* Euclidean distance function is used to store only the frames of the video in which the movemenr is detected.\n",
    "* Also feel free to use other methods of image differetation given the the _Other Methods_ folder.\n",
    "  * Remember to change the threshold of video recording accordingly\n",
    "* The program also prints out the euclidean distance everytime it reaches ahead of the threshold"
   ]
  },
  {
   "cell_type": "code",
   "execution_count": null,
   "id": "f09df4b4",
   "metadata": {
    "scrolled": false
   },
   "outputs": [],
   "source": [
    "cap = cv2.VideoCapture(0)                      #opens the webcam\n",
    "ret = True                                     #creates a boolean \n",
    "ret, old_frame = cap.read()                    #ret is true and the first frame of video saved in old_frame\n",
    "\n",
    "#subrtacting background from the objects\n",
    "back_sub = cv2.createBackgroundSubtractorMOG2(history=700, \n",
    "           varThreshold=25, detectShadows=True)\n",
    "\n",
    "#Height and wdith of the frames in which video will be written\n",
    "frame_width = int(cap.get(3))\n",
    "frame_height = int(cap.get(4))\n",
    "   \n",
    "size = (frame_width, frame_height)\n",
    "   \n",
    "# Below VideoWriter will create object\n",
    "# a frame of above defined The output \n",
    "# is stored in 'Recording.avi' file.\n",
    "rec_vid = cv2.VideoWriter('Recording.avi', \n",
    "                         cv2.VideoWriter_fourcc(*'MJPG'),\n",
    "                         5, size)\n",
    "\n",
    "kernel = np.ones((30,30),np.uint8) \n",
    "# Check if the webcam is opened correctly\n",
    "if not cap.isOpened():\n",
    "    raise IOError(\"Cannot open webcam\")\n",
    "\n",
    "while ret:\n",
    "    ret, frame = cap.read()          #saves the first frame of video in frame \n",
    "    \n",
    "    #uses the euclidean function created above to calculate the similarit\n",
    "    sime = euclidean_distance(old_frame, frame) \n",
    "    \n",
    "    #applies the background subtractor\n",
    "    fg_mask = back_sub.apply(frame)\n",
    "    \n",
    "    #applies CLOSE MORPHOLOGY to remove black spots (removes noises)\n",
    "    fg_mask = cv2.morphologyEx(fg_mask, cv2.MORPH_CLOSE, kernel)\n",
    "    \n",
    "    #blurring filter for lesser noise and distortion\n",
    "    fg_mask = cv2.medianBlur(fg_mask, 5)\n",
    "    \n",
    "    #converts RGB to binary image assigns 0 to pixels less than treshold and 255 to more than threshold\n",
    "    _, fg_mask = cv2.threshold(fg_mask,127,255,cv2.THRESH_BINARY)\n",
    "    \n",
    "    fg_mask_bb = fg_mask\n",
    "    \n",
    "    #detects Contours i.e Detects the change of colour in the image\n",
    "    contours, hierarchy = cv2.findContours(fg_mask_bb,cv2.RETR_TREE,cv2.CHAIN_APPROX_SIMPLE)\n",
    "    areas = [cv2.contourArea(c) for c in contours] #creates arrays of areas detected in different contours\n",
    "    \n",
    "    #if no contour detected\n",
    "    if len(areas) < 1:\n",
    "        cv2.imshow('frame',frame)\n",
    "        continue\n",
    "    #if contour detected\n",
    "    else:\n",
    "        max_index = np.argmax(areas) #take the largest movement causing object(area)\n",
    "        \n",
    "    cnt = contours[max_index] #Takes contours of the maximum area\n",
    "    x,y,w,h = cv2.boundingRect(cnt) #Takes the center co-ordinates , height and width\n",
    "    cv2.rectangle(frame,(x,y),(x+w,y+h),(0,255,0),3) #prints out a bounding box in the image\n",
    "    \n",
    "    if(sime>94000):                  #Threshold set to 94000 for euclidean distance \n",
    "        print(sime)                  #Prints the euclidean distance\n",
    "        rec_vid.write(frame)         #Records video when movement detected\n",
    "    \n",
    "    cv2.imshow('Input', frame)   #opens the webcam in a pop-up window\n",
    "    old_frame = frame            #saves the vale of the new frame in old frame to be used later in the loop\n",
    "    c = cv2.waitKey(1)           #new frame comes after () ms\n",
    "    if cv2.waitKey(1) & 0xFF == ord('q'): #press q on keyboard to stop the webcam\n",
    "        break\n",
    "    \n",
    "    \n",
    "cap.release()\n",
    "cv2.destroyAllWindows()          #Once out of the while loop, the pop-up window closes automatically"
   ]
  }
 ],
 "metadata": {
  "kernelspec": {
   "display_name": "Python 3",
   "language": "python",
   "name": "python3"
  },
  "language_info": {
   "codemirror_mode": {
    "name": "ipython",
    "version": 3
   },
   "file_extension": ".py",
   "mimetype": "text/x-python",
   "name": "python",
   "nbconvert_exporter": "python",
   "pygments_lexer": "ipython3",
   "version": "3.8.8"
  }
 },
 "nbformat": 4,
 "nbformat_minor": 5
}
