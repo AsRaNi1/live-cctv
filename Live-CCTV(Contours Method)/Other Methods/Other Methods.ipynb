{
 "cells": [
  {
   "cell_type": "markdown",
   "id": "2a9f8a34",
   "metadata": {},
   "source": [
    "**OTHER METHODS OF IMAGE DIFFERENTIATION**"
   ]
  },
  {
   "cell_type": "markdown",
   "id": "e07012d0",
   "metadata": {},
   "source": [
    "**COSINE SIMILARITY**"
   ]
  },
  {
   "cell_type": "markdown",
   "id": "09d257da",
   "metadata": {},
   "source": [
    "* Cosine similarity is used to find the angle between the two vectors of a image\n",
    "* If the images are similar the angle is less and vice-versa\n",
    "* The formula for cosine siliarity is as follows A.B/|A||B|"
   ]
  },
  {
   "cell_type": "code",
   "execution_count": null,
   "id": "9a363ab7",
   "metadata": {},
   "outputs": [],
   "source": [
    "def cosine(image1, image2):  #takes 2 frames of the video as input i.e old_frame and frame\n",
    "\n",
    "    img1_array = np.asarray(image1)  #converts old_frame to an array\n",
    "    img2_array = np.asarray(image2)  #converts frame into an array\n",
    "    \n",
    "    gray_img1_array = cv2.cvtColor(image1, cv2.COLOR_BGR2GRAY)\n",
    "    gray_img2_array = cv2.cvtColor(image2, cv2.COLOR_BGR2GRAY)\n",
    "\n",
    "\n",
    "    flat_img1_array = gray_img1_array.flatten() #flattens out the old_frame array into a row for dot product\n",
    "    flat_img2_array = gray_img2_array.flatten() #flattens out the frame array into a row for dot product\n",
    "    \n",
    "     \n",
    "    #calculates the cosine between the 2 vectors obtained from old_frame and frame\n",
    "    #The formula for cosine is as follows: (A.B)/(|A||B|)\n",
    "    #The more similar the frames are, the more will be the vale of the cosine function\n",
    "    #This is because the vectors of the 2 frames will be close and make a lesser angle\n",
    "    cosine = np.dot(flat_img1_array, flat_img2_array)/(np.linalg.norm(flat_img1_array)*np.linalg.norm(flat_img2_array))\n",
    "\n",
    "    return cosine"
   ]
  },
  {
   "cell_type": "markdown",
   "id": "9241ce4b",
   "metadata": {},
   "source": [
    "**MANHATTAN DISTANCE**"
   ]
  },
  {
   "cell_type": "markdown",
   "id": "1187cad3",
   "metadata": {},
   "source": [
    "* Manhattan distance is another way to calculate distance between 2 vectors of images\n",
    "* The more the distance the more the images are different and vice-versa\n",
    "* The formula for Manhattan distance is (sigma[A - B])^0.5"
   ]
  },
  {
   "cell_type": "code",
   "execution_count": null,
   "id": "a5a63c6c",
   "metadata": {},
   "outputs": [],
   "source": [
    "def manhattan_distance(image1, image2):\n",
    "    p = 3\n",
    "    img1_array = np.asarray(image1)  #converts old_frame to an array\n",
    "    img2_array = np.asarray(image2)  #converts frame into an array\n",
    "    \n",
    "    gray_img1_array = cv2.cvtColor(image1, cv2.COLOR_BGR2GRAY)\n",
    "    gray_img2_array = cv2.cvtColor(image2, cv2.COLOR_BGR2GRAY)\n",
    "\n",
    "\n",
    "    flat_img1_array = gray_img1_array.flatten() #flattens out the old_frame array into a row for dot product\n",
    "    flat_img2_array = gray_img2_array.flatten() #flattens out the frame array into a row for dot product\n",
    "    \n",
    "    \n",
    "    manhattan_dist = np.linalg.norm((flat_img1_array - flat_img2_array), ord = 1)\n",
    "    return manhattan_dist"
   ]
  }
 ],
 "metadata": {
  "kernelspec": {
   "display_name": "Python 3",
   "language": "python",
   "name": "python3"
  },
  "language_info": {
   "codemirror_mode": {
    "name": "ipython",
    "version": 3
   },
   "file_extension": ".py",
   "mimetype": "text/x-python",
   "name": "python",
   "nbconvert_exporter": "python",
   "pygments_lexer": "ipython3",
   "version": "3.8.8"
  }
 },
 "nbformat": 4,
 "nbformat_minor": 5
}
